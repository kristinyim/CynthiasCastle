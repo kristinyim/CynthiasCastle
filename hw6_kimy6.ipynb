{
  "nbformat": 4,
  "nbformat_minor": 0,
  "metadata": {
    "colab": {
      "name": "hw6_kimy6.ipynb",
      "provenance": [],
      "include_colab_link": true
    },
    "kernelspec": {
      "name": "python3",
      "display_name": "Python 3"
    }
  },
  "cells": [
    {
      "cell_type": "markdown",
      "metadata": {
        "id": "view-in-github",
        "colab_type": "text"
      },
      "source": [
        "<a href=\"https://colab.research.google.com/github/kristinyim/CynthiasCastle/blob/master/hw6_kimy6.ipynb\" target=\"_parent\"><img src=\"https://colab.research.google.com/assets/colab-badge.svg\" alt=\"Open In Colab\"/></a>"
      ]
    },
    {
      "cell_type": "code",
      "metadata": {
        "id": "o3FzLpjuaXRW",
        "colab_type": "code",
        "colab": {}
      },
      "source": [
        "# Kristin Yim (kyim6)\n",
        "# Deep Learning Fall 2019\n",
        "# HW 6"
      ],
      "execution_count": 0,
      "outputs": []
    },
    {
      "cell_type": "code",
      "metadata": {
        "id": "dMyZIU-li7bW",
        "colab_type": "code",
        "colab": {}
      },
      "source": [
        "# unet.py\n",
        "# This code is provided for Deep Learning (CS 482/682) Homework 6 practice.\n",
        "# The network structure is a simplified U-net. You need to finish the last layers\n",
        "# @Copyright Cong Gao, the Johns Hopkins University, cgao11@jhu.edu\n",
        "# Modified by Hongtao Wu on Oct 11, 2019 for Fall 2019 Machine Learning: Deep Learning HW6\n",
        "\n",
        "import torch\n",
        "import torch.nn as nn\n",
        "import torch.nn.functional as functional\n",
        "import numpy as np"
      ],
      "execution_count": 0,
      "outputs": []
    },
    {
      "cell_type": "code",
      "metadata": {
        "id": "31KViffojR1f",
        "colab_type": "code",
        "colab": {}
      },
      "source": [
        "# Functions for adding the convolution layer\n",
        "def add_conv_stage(dim_in, dim_out, kernel_size=3, stride=1, padding=1, bias=True, useBN=False):\n",
        "  if useBN:\n",
        "    # Use batch normalization\n",
        "    return nn.Sequential(\n",
        "      nn.Conv2d(dim_in, dim_out, kernel_size=kernel_size, stride=stride, padding=padding, bias=bias),\n",
        "      nn.BatchNorm2d(dim_out),\n",
        "      nn.LeakyReLU(0.1),\n",
        "      nn.Conv2d(dim_out, dim_out, kernel_size=kernel_size, stride=stride, padding=padding, bias=bias),\n",
        "      nn.BatchNorm2d(dim_out),\n",
        "      nn.LeakyReLU(0.1)\n",
        "    )\n",
        "  else:\n",
        "    # No batch normalization\n",
        "    return nn.Sequential(\n",
        "      nn.Conv2d(dim_in, dim_out, kernel_size=kernel_size, stride=stride, padding=padding, bias=bias),\n",
        "      nn.ReLU(),\n",
        "      nn.Conv2d(dim_out, dim_out, kernel_size=kernel_size, stride=stride, padding=padding, bias=bias),\n",
        "      nn.ReLU()\n",
        "    )"
      ],
      "execution_count": 0,
      "outputs": []
    },
    {
      "cell_type": "code",
      "metadata": {
        "id": "XwY6QnjejUSA",
        "colab_type": "code",
        "colab": {}
      },
      "source": [
        "# Upsampling\n",
        "def upsample(ch_coarse, ch_fine):\n",
        "  return nn.Sequential(\n",
        "    nn.ConvTranspose2d(ch_coarse, ch_fine, 4, 2, 1, bias=False),\n",
        "    nn.ReLU()\n",
        "  )"
      ],
      "execution_count": 0,
      "outputs": []
    },
    {
      "cell_type": "code",
      "metadata": {
        "id": "5Ss-P8oFkM4v",
        "colab_type": "code",
        "colab": {}
      },
      "source": [
        "num_classes = 8"
      ],
      "execution_count": 0,
      "outputs": []
    },
    {
      "cell_type": "code",
      "metadata": {
        "id": "u44-DOaOjWap",
        "colab_type": "code",
        "colab": {}
      },
      "source": [
        "# U-Net\n",
        "class unet(nn.Module):\n",
        "  def __init__(self, useBN=False):\n",
        "    super(unet, self).__init__()\n",
        "    # Downgrade stages\n",
        "    self.conv1 = add_conv_stage(3, 32, useBN=useBN)\n",
        "    self.conv2 = add_conv_stage(32, 64, useBN=useBN)\n",
        "    self.conv3 = add_conv_stage(64, 128, useBN=useBN)\n",
        "    self.conv4 = add_conv_stage(128, 256, useBN=useBN)\n",
        "    # Upgrade stages\n",
        "    self.conv3m = add_conv_stage(256, 128, useBN=useBN)\n",
        "    self.conv2m = add_conv_stage(128,  64, useBN=useBN)\n",
        "    self.conv1m = add_conv_stage( 64,  32, useBN=useBN)\n",
        "    # Maxpool\n",
        "    self.max_pool = nn.MaxPool2d(2)\n",
        "    # Upsample layers\n",
        "    self.upsample43 = upsample(256, 128)\n",
        "    self.upsample32 = upsample(128,  64)\n",
        "    self.upsample21 = upsample(64 ,  32)\n",
        "    # weight initialization\n",
        "    # You can have your own weight intialization. This is just an example.\n",
        "    for m in self.modules():\n",
        "      if isinstance(m, nn.Conv2d) or isinstance(m, nn.ConvTranspose2d):\n",
        "        if m.bias is not None:\n",
        "          m.bias.data.zero_()\n",
        "\n",
        "    #TODO: Design your last layer & activations\n",
        "    self.conv_last = add_conv_stage(32, 3, useBN=useBN)\n",
        "    self.conv_class = add_conv_stage(3, num_classes, useBN=useBN)\n",
        "    self.sigmoid = nn.Sigmoid()\n",
        "\n",
        "\n",
        "  def forward(self, x):\n",
        "    conv1_out = self.conv1(x) # 3--> 32\n",
        "    conv2_out = self.conv2(self.max_pool(conv1_out)) # 32 --> 64\n",
        "    conv3_out = self.conv3(self.max_pool(conv2_out)) # 64 --> 128\n",
        "    conv4_out = self.conv4(self.max_pool(conv3_out)) # 128 --> 256\n",
        "    # upsample then conv\n",
        "    conv4m_out_ = torch.cat((self.upsample43(conv4_out), conv3_out), 1)\n",
        "    conv3m_out  = self.conv3m(conv4m_out_) # 256 --> 128\n",
        "\n",
        "    conv3m_out_ = torch.cat((self.upsample32(conv3m_out), conv2_out), 1)\n",
        "    conv2m_out  = self.conv2m(conv3m_out_) # 128 --> 64\n",
        "\n",
        "    conv2m_out_ = torch.cat((self.upsample21(conv2m_out), conv1_out), 1)\n",
        "    conv1m_out  = self.conv1m(conv2m_out_) # 64 --> 32\n",
        "\n",
        "    #TODO: Design your last layer & activations\n",
        "    conv_last_out = self.conv_last(conv1m_out) # 32 --> 3\n",
        "    conv_class_out = self.conv_class(conv_last_out) # 3 --> num_classes\n",
        "    out = self.sigmoid(conv_class_out)\n",
        "\n",
        "    return out\n"
      ],
      "execution_count": 0,
      "outputs": []
    },
    {
      "cell_type": "code",
      "metadata": {
        "id": "mG8VBtUMjbor",
        "colab_type": "code",
        "colab": {}
      },
      "source": [
        "# train.py\n",
        "# This code is provided for Deep Learning class (CS 482/682) Homework 6 practice.\n",
        "# This is a sketch code for main function. There are some given hyper-parameters insideself.\n",
        "# You need to finish the design and train your network.\n",
        "# @Copyright Cong Gao, the Johns Hopkins University, cgao11@jhu.edu\n",
        "# Modified by Hongtao Wu on Oct 11, 2019 for Fall 2019 Machine Learning: Deep Learning HW6\n",
        "\n",
        "import os\n",
        "import numpy as np\n",
        "\n",
        "import torch\n",
        "import torch.nn as nn\n",
        "from torch.utils.data import Dataset, DataLoader\n",
        "from torchvision import transforms\n",
        "import matplotlib.pyplot as plt\n",
        "from PIL import Image\n",
        "import time"
      ],
      "execution_count": 0,
      "outputs": []
    },
    {
      "cell_type": "code",
      "metadata": {
        "id": "Z0799clRjloY",
        "colab_type": "code",
        "colab": {}
      },
      "source": [
        "######################## Hyperparameters #################################\n",
        "# Batch size can be changed if it does not match your memory, please state your batch step_size\n",
        "# in your report.\n",
        "train_batch_size = 10\n",
        "validation_batch_size=10\n",
        "# Please use this learning rate for Prob1(a) and Prob1(b)\n",
        "learning_rate = 0.001\n",
        "# This num_epochs is designed for running to be long enough, you need to manually stop or design\n",
        "# your early stopping method.\n",
        "num_epochs = 1000"
      ],
      "execution_count": 0,
      "outputs": []
    },
    {
      "cell_type": "code",
      "metadata": {
        "id": "4W4SP3sTaRcy",
        "colab_type": "code",
        "colab": {
          "base_uri": "https://localhost:8080/",
          "height": 68
        },
        "outputId": "f622d1f1-a97b-4aa0-e946-eaf9f969b824"
      },
      "source": [
        "# load the data\n",
        "from google.colab import drive\n",
        "drive.mount('/content/drive')\n",
        "!unzip /content/drive/My\\ Drive/Colab\\ Notebooks/dl_hw/dl_hw6/segmentation.zip"
      ],
      "execution_count": 88,
      "outputs": [
        {
          "output_type": "stream",
          "text": [
            "Drive already mounted at /content/drive; to attempt to forcibly remount, call drive.mount(\"/content/drive\", force_remount=True).\n",
            "Archive:  /content/drive/My Drive/Colab Notebooks/dl_hw/dl_hw6/segmentation.zip\n",
            "replace segmentation/.DS_Store? [y]es, [n]o, [A]ll, [N]one, [r]ename: N\n"
          ],
          "name": "stdout"
        }
      ]
    },
    {
      "cell_type": "code",
      "metadata": {
        "id": "Jnpt7t2SjnwG",
        "colab_type": "code",
        "colab": {}
      },
      "source": [
        "# Design your own dataset\n",
        "class ImageDataset(Dataset):\n",
        "  def __init__(self,input_dir,transform=None):\n",
        "    self.input_dir = input_dir\n",
        "    inputs = []\n",
        "    masks = []\n",
        "    for root, _, files in os.walk(input_dir):\n",
        "      for file in files:\n",
        "        path = os.path.join(root,file)\n",
        "        if \"input\" in path:\n",
        "          inputs.append(path)\n",
        "        elif \"mask\" in path:\n",
        "          masks.append(path)\n",
        "    self.inputs_path = inputs\n",
        "    self.masks_path = masks\n",
        "    self.transform = transform\n",
        "  \n",
        "  def __len__(self):\n",
        "    return len(self.inputs_path)\n",
        "  \n",
        "  def load_image(self,file_path):\n",
        "    img = Image.open(file_path)\n",
        "    img.load()\n",
        "    data = np.asarray(img, dtype=\"float32\")\n",
        "    return data\n",
        "  \n",
        "#   def normalize(self,input):\n",
        "#     input -= input.mean(axis=(0,1), keepdims=True)\n",
        "#     input /= input.std(axis=(0,1), keepdims=True)\n",
        "#     return input\n",
        "  \n",
        "  def __getitem__(self, idx):\n",
        "    # get numpy array\n",
        "    image = self.load_image(self.inputs_path[idx])\n",
        "    mask = self.load_image(self.masks_path[idx])\n",
        "    # to torch tensors\n",
        "#     image = torch.from_numpy(image)\n",
        "#     mask = torch.from_numpy(mask)\n",
        "    # normalize\n",
        "    if self.transform:\n",
        "      image = self.transform(image)\n",
        "#     image = self.normalize(image)\n",
        "#     mask = mask/torch.max(mask)\n",
        "    sample = (image, mask)\n",
        "    return sample"
      ],
      "execution_count": 0,
      "outputs": []
    },
    {
      "cell_type": "code",
      "metadata": {
        "id": "_Xyy1-Kljp1l",
        "colab_type": "code",
        "colab": {}
      },
      "source": [
        "# TODO: Implement DICE loss\n",
        "class DICELoss(nn.Module):\n",
        "    def __init__(self):\n",
        "      super(DICELoss, self).__init__()\n",
        "    \n",
        "    def class_channels(self,y):\n",
        "      print(y)\n",
        "      return y\n",
        "    \n",
        "    def forward(self,y_hat,y):\n",
        "      # covert y into having 8 channels representing the classes\n",
        "      y = self.class_channels(y)\n",
        "      # dice calculation\n",
        "      return 1"
      ],
      "execution_count": 0,
      "outputs": []
    },
    {
      "cell_type": "code",
      "metadata": {
        "id": "IJNuvSLLCfAG",
        "colab_type": "code",
        "colab": {}
      },
      "source": [
        "model = unet()"
      ],
      "execution_count": 0,
      "outputs": []
    },
    {
      "cell_type": "code",
      "metadata": {
        "id": "hbHPjY5hmt3X",
        "colab_type": "code",
        "colab": {
          "base_uri": "https://localhost:8080/",
          "height": 51
        },
        "outputId": "c594ab90-ece3-4741-a6ed-71d864e6dee2"
      },
      "source": [
        "train_loader2 = torch.utils.data.DataLoader(train_dataset,batch_size=train_dataset.__len__())\n",
        "for (x,y) in train_loader2:\n",
        "  x_train_mean = torch.mean(x,[0,1,2])\n",
        "  x_train_std = torch.std(x,[0,1,2])\n",
        "print(x_train_mean)\n",
        "print(x_train_std)"
      ],
      "execution_count": 105,
      "outputs": [
        {
          "output_type": "stream",
          "text": [
            "tensor([122.4148,  76.8673,  86.2640])\n",
            "tensor([49.7471, 42.8070, 47.1072])\n"
          ],
          "name": "stdout"
        }
      ]
    },
    {
      "cell_type": "markdown",
      "metadata": {
        "id": "OgtftS0vx6-v",
        "colab_type": "text"
      },
      "source": [
        "train\n",
        "mean = tensor([122.4148,  76.8673,  86.2640])\n",
        "std = tensor([49.7471, 42.8070, 47.1072])"
      ]
    },
    {
      "cell_type": "code",
      "metadata": {
        "id": "uTSVGknRkLuG",
        "colab_type": "code",
        "colab": {}
      },
      "source": [
        "# Use your designed dataset for dataloading\n",
        "test_path = './segmentation/test'\n",
        "train_path = './segmentation/train'\n",
        "validation_path = './segmentation/validation'\n",
        "\n",
        "train_transforms = transforms.Compose([\n",
        "    transforms.ToTensor(),\n",
        "    transforms.Normalize([122.4148,  76.8673,  86.2640],[49.7471, 42.8070, 47.1072])\n",
        "])\n",
        "\n",
        "train_dataset=ImageDataset(input_dir = train_path,transform=train_transforms)\n",
        "validation_dataset=ImageDataset(input_dir = validation_path)\n",
        "\n",
        "optimizer = torch.optim.Adam(model.parameters(),lr=learning_rate)\n",
        "scheduler = torch.optim.lr_scheduler.StepLR(optimizer, step_size=10, gamma=0.1)\n",
        "\n",
        "train_loader = torch.utils.data.DataLoader(train_dataset,batch_size=train_batch_size)\n",
        "val_loader = torch.utils.data.DataLoader(validation_dataset,batch_size=validation_batch_size)"
      ],
      "execution_count": 0,
      "outputs": []
    },
    {
      "cell_type": "code",
      "metadata": {
        "id": "1wwSDJiSRv8K",
        "colab_type": "code",
        "colab": {
          "base_uri": "https://localhost:8080/",
          "height": 303
        },
        "outputId": "0dbecf93-2173-4520-a5b9-bc6d9ac3b4c2"
      },
      "source": [
        "sample = train_dataset.__getitem__(0)\n",
        "plt.imshow(sample[0].permute(1,2,0))\n",
        "# plt.imshow(sample[1])"
      ],
      "execution_count": 123,
      "outputs": [
        {
          "output_type": "stream",
          "text": [
            "Clipping input data to the valid range for imshow with RGB data ([0..1] for floats or [0..255] for integers).\n"
          ],
          "name": "stderr"
        },
        {
          "output_type": "execute_result",
          "data": {
            "text/plain": [
              "<matplotlib.image.AxesImage at 0x7f0d90d94ac8>"
            ]
          },
          "metadata": {
            "tags": []
          },
          "execution_count": 123
        },
        {
          "output_type": "display_data",
          "data": {
            "image/png": "[encoded data removed]",
            "text/plain": [
              "<Figure size 432x288 with 1 Axes>"
            ]
          },
          "metadata": {
            "tags": []
          }
        }
      ]
    },
    {
      "cell_type": "code",
      "metadata": {
        "id": "1HuBlJgjfizy",
        "colab_type": "code",
        "colab": {
          "base_uri": "https://localhost:8080/",
          "height": 51
        },
        "outputId": "a75bc8b4-99f9-4551-8828-e33722ea83fd"
      },
      "source": [
        "for i,(x,y) in enumerate(train_loader):\n",
        "  # maybe needed\n",
        "  if torch.cuda.is_available():\n",
        "    x = x.cuda()\n",
        "    y = y.cuda() # 10,256,320\n",
        "\n",
        "  x = x.permute(0,3,1,2) # [batch,256,320,3] --> [batch,3,256,320]\n",
        "\n",
        "  y = y/torch.max(y)\n",
        "  \n",
        "  # get unique values\n",
        "  np_y = y.numpy()\n",
        "  unique_y = np.unique(np_y)\n",
        "  print(unique_y.shape)\n",
        "  print(unique_y[:10])\n",
        "#   y_hat = model(x) # 10,8,256,320\n",
        "  # compute loss\n",
        "  # want 10,256,320 --> 10,8,256,320\n",
        "  \n",
        "  break"
      ],
      "execution_count": 51,
      "outputs": [
        {
          "output_type": "stream",
          "text": [
            "(6,)\n",
            "[0.         0.14285715 0.2857143  0.42857143 0.5714286  1.        ]\n"
          ],
          "name": "stdout"
        }
      ]
    },
    {
      "cell_type": "code",
      "metadata": {
        "id": "cKs33rX_Lis9",
        "colab_type": "code",
        "colab": {}
      },
      "source": [
        "def train_step():\n",
        "  model.train()\n",
        "  track_loss = []\n",
        "  for i,(x,y) in enumerate(train_loader):\n",
        "    # maybe needed\n",
        "    if torch.cuda.is_available():\n",
        "      x = x.cuda()\n",
        "      y = y.cuda()\n",
        "           \n",
        "    x = x.permute(0,3,1,2) # [batch,256,320,3] --> [batch,3,256,320]\n",
        "      \n",
        "    y_hat = model(x)\n",
        "    # compute loss\n",
        "    loss = loss_func(y_hat,y) # dice\n",
        "    track_loss.append(loss.item())\n",
        "    # update\n",
        "    optimizer.zero_grad()\n",
        "    loss.backward()\n",
        "    optimizer.step()\n",
        "    \n",
        "  return track_loss"
      ],
      "execution_count": 0,
      "outputs": []
    },
    {
      "cell_type": "code",
      "metadata": {
        "id": "-8RLSbk2FY1x",
        "colab_type": "code",
        "colab": {}
      },
      "source": [
        "def val_step():\n",
        "  model.val()\n",
        "  track_loss = []\n",
        "  for i,(x,y) in enumerate(val_loader):\n",
        "    # maybe needed\n",
        "    if torch.cuda.is_available():\n",
        "      x = x.cuda()\n",
        "      y = y.cuda()\n",
        "      \n",
        "    x = x.permute(0,3,1,2) # [batch,256,320,3] --> [batch,3,256,320]\n",
        "    \n",
        "    y_hat = model(x)\n",
        "    # compute loss\n",
        "    loss = loss_func(y_hat,y) # dice\n",
        "    track_loss.append(loss.item())\n",
        "\n",
        "  return track_loss"
      ],
      "execution_count": 0,
      "outputs": []
    },
    {
      "cell_type": "code",
      "metadata": {
        "id": "q6qjU7FBkPmq",
        "colab_type": "code",
        "colab": {
          "base_uri": "https://localhost:8080/",
          "height": 85
        },
        "outputId": "bdd3aa4e-4b10-4484-d70a-4dd4232122b3"
      },
      "source": [
        "print(\"Start Training...\")\n",
        "num_epochs=1\n",
        "train_loss_store = []\n",
        "val_loss_store = []\n",
        "loss_func = DICELoss()\n",
        "for epoch in range(num_epochs):\n",
        "    print(\"\\nEPOCH \" +str(epoch+1)+\" of \"+str(num_epochs)+\"\\n\")\n",
        "    # Design your own training section\n",
        "    time_start = time.time()\n",
        "    ########################### Training #####################################\n",
        "    train_loss = train_step()\n",
        "    train_loss_store.extend(train_loss)\n",
        "    print(\"Best training loss: \", min(train_loss_store))\n",
        "    ########################### Validation #####################################\n",
        "    val_loss = val_step()\n",
        "    val_loss_store.extend(val_loss) \n",
        "    print(\"Best validation loss: \", min(val_loss_store))\n",
        "    \n",
        "    time_end = time.time()\n",
        "    print(\"Elapsed time for epoch:\",time_end - time_start,'s')\n",
        "    \n",
        "# plotting\n",
        "steps_store = np.arange(len(train_los_store)).tolist\n",
        "plt.plot(steps_store,train_loss_store,steps_store,val_loss_store)\n",
        "\n",
        "#TODO: testing"
      ],
      "execution_count": 0,
      "outputs": [
        {
          "output_type": "stream",
          "text": [
            "Start Training...\n",
            "\n",
            "EPOCH 1 of 1\n",
            "\n"
          ],
          "name": "stdout"
        }
      ]
    },
    {
      "cell_type": "code",
      "metadata": {
        "id": "jk3gj2twWUdH",
        "colab_type": "code",
        "colab": {}
      },
      "source": [
        ""
      ],
      "execution_count": 0,
      "outputs": []
    }
  ]
}